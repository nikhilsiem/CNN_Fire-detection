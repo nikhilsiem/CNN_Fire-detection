{
 "cells": [
  {
   "cell_type": "code",
   "execution_count": 48,
   "metadata": {},
   "outputs": [],
   "source": [
    "import tensorflow as tf\n",
    "\n",
    "\n",
    "\n",
    "from tensorflow.keras.models import Sequential\n",
    "from tensorflow.keras.layers import Dense,Activation,Flatten,Dropout,Conv2D,MaxPooling2D"
   ]
  },
  {
   "cell_type": "code",
   "execution_count": 49,
   "metadata": {},
   "outputs": [],
   "source": [
    "from sklearn.model_selection import train_test_split"
   ]
  },
  {
   "cell_type": "code",
   "execution_count": 50,
   "metadata": {},
   "outputs": [],
   "source": [
    "x=pickle.load(open(\"x.pickle\",\"rb\"))\n",
    "y=pickle.load(open(\"y.pickle\",\"rb\"))"
   ]
  },
  {
   "cell_type": "code",
   "execution_count": 51,
   "metadata": {},
   "outputs": [],
   "source": [
    "X_train, X_test, y_train, y_test = train_test_split(x, y, test_size=0.2)"
   ]
  },
  {
   "cell_type": "code",
   "execution_count": 52,
   "metadata": {},
   "outputs": [
    {
     "data": {
      "text/plain": [
       "1100"
      ]
     },
     "execution_count": 52,
     "metadata": {},
     "output_type": "execute_result"
    }
   ],
   "source": [
    "len(X_train)"
   ]
  },
  {
   "cell_type": "code",
   "execution_count": 53,
   "metadata": {},
   "outputs": [
    {
     "data": {
      "text/plain": [
       "276"
      ]
     },
     "execution_count": 53,
     "metadata": {},
     "output_type": "execute_result"
    }
   ],
   "source": [
    "len(X_test)"
   ]
  },
  {
   "cell_type": "code",
   "execution_count": 54,
   "metadata": {},
   "outputs": [],
   "source": [
    "X_train = X_train/128\n",
    "X_test = X_test/128"
   ]
  },
  {
   "cell_type": "code",
   "execution_count": 79,
   "metadata": {},
   "outputs": [],
   "source": [
    "import pickle\n",
    "\n",
    "\n",
    "model=Sequential()\n",
    "model.add(Conv2D(32,(3,3),input_shape=X_train.shape[1:]))\n",
    "model.add(Activation(\"relu\"))\n",
    "model.add(MaxPooling2D(pool_size=(2,2)))\n",
    "\n",
    "model.add(Conv2D(32,(3,3),input_shape=X_train.shape[1:]))\n",
    "model.add(Activation(\"relu\"))\n",
    "model.add(MaxPooling2D(pool_size=(2,2)))\n",
    "\n",
    "model.add(Conv2D(64,(3,3)))\n",
    "model.add(Activation(\"relu\"))\n",
    "model.add(MaxPooling2D(pool_size=(2,2)))\n",
    "\n",
    "model.add(Conv2D(64,(3,3)))\n",
    "model.add(Activation(\"relu\"))\n",
    "model.add(MaxPooling2D(pool_size=(2,2)))\n",
    "\n",
    "model.add(Conv2D(128,(3,3)))\n",
    "model.add(Activation(\"relu\"))\n",
    "model.add(MaxPooling2D(pool_size=(2,2)))\n",
    "\n",
    "\n",
    "model.add(Flatten())\n",
    "model.add(Dense(128))\n",
    "model.add(Dense(1))\n",
    "model.add(Activation('sigmoid'))"
   ]
  },
  {
   "cell_type": "code",
   "execution_count": 80,
   "metadata": {},
   "outputs": [
    {
     "name": "stdout",
     "output_type": "stream",
     "text": [
      "_________________________________________________________________\n",
      "Layer (type)                 Output Shape              Param #   \n",
      "=================================================================\n",
      "conv2d_60 (Conv2D)           (None, 126, 126, 32)      320       \n",
      "_________________________________________________________________\n",
      "activation_70 (Activation)   (None, 126, 126, 32)      0         \n",
      "_________________________________________________________________\n",
      "max_pooling2d_59 (MaxPooling (None, 63, 63, 32)        0         \n",
      "_________________________________________________________________\n",
      "conv2d_61 (Conv2D)           (None, 61, 61, 32)        9248      \n",
      "_________________________________________________________________\n",
      "activation_71 (Activation)   (None, 61, 61, 32)        0         \n",
      "_________________________________________________________________\n",
      "max_pooling2d_60 (MaxPooling (None, 30, 30, 32)        0         \n",
      "_________________________________________________________________\n",
      "conv2d_62 (Conv2D)           (None, 28, 28, 64)        18496     \n",
      "_________________________________________________________________\n",
      "activation_72 (Activation)   (None, 28, 28, 64)        0         \n",
      "_________________________________________________________________\n",
      "max_pooling2d_61 (MaxPooling (None, 14, 14, 64)        0         \n",
      "_________________________________________________________________\n",
      "conv2d_63 (Conv2D)           (None, 12, 12, 64)        36928     \n",
      "_________________________________________________________________\n",
      "activation_73 (Activation)   (None, 12, 12, 64)        0         \n",
      "_________________________________________________________________\n",
      "max_pooling2d_62 (MaxPooling (None, 6, 6, 64)          0         \n",
      "_________________________________________________________________\n",
      "conv2d_64 (Conv2D)           (None, 4, 4, 128)         73856     \n",
      "_________________________________________________________________\n",
      "activation_74 (Activation)   (None, 4, 4, 128)         0         \n",
      "_________________________________________________________________\n",
      "max_pooling2d_63 (MaxPooling (None, 2, 2, 128)         0         \n",
      "_________________________________________________________________\n",
      "flatten_12 (Flatten)         (None, 512)               0         \n",
      "_________________________________________________________________\n",
      "dense_22 (Dense)             (None, 128)               65664     \n",
      "_________________________________________________________________\n",
      "dense_23 (Dense)             (None, 1)                 129       \n",
      "_________________________________________________________________\n",
      "activation_75 (Activation)   (None, 1)                 0         \n",
      "=================================================================\n",
      "Total params: 204,641\n",
      "Trainable params: 204,641\n",
      "Non-trainable params: 0\n",
      "_________________________________________________________________\n"
     ]
    }
   ],
   "source": [
    "model.summary()"
   ]
  },
  {
   "cell_type": "code",
   "execution_count": 81,
   "metadata": {},
   "outputs": [
    {
     "name": "stdout",
     "output_type": "stream",
     "text": [
      "Train on 1100 samples, validate on 276 samples\n",
      "Epoch 1/30\n",
      "1100/1100 [==============================] - 23s 21ms/sample - loss: 0.6796 - acc: 0.5791 - val_loss: 0.6516 - val_acc: 0.5725\n",
      "Epoch 2/30\n",
      "1100/1100 [==============================] - 22s 20ms/sample - loss: 0.6175 - acc: 0.6755 - val_loss: 0.5615 - val_acc: 0.7391\n",
      "Epoch 3/30\n",
      "1100/1100 [==============================] - 22s 20ms/sample - loss: 0.5540 - acc: 0.7336 - val_loss: 0.4566 - val_acc: 0.7681\n",
      "Epoch 4/30\n",
      "1100/1100 [==============================] - 23s 21ms/sample - loss: 0.5151 - acc: 0.7536 - val_loss: 0.4543 - val_acc: 0.8007\n",
      "Epoch 5/30\n",
      "1100/1100 [==============================] - 22s 20ms/sample - loss: 0.4840 - acc: 0.7727 - val_loss: 0.4007 - val_acc: 0.8225\n",
      "Epoch 6/30\n",
      "1100/1100 [==============================] - 23s 20ms/sample - loss: 0.4591 - acc: 0.7882 - val_loss: 0.4210 - val_acc: 0.8152\n",
      "Epoch 7/30\n",
      "1100/1100 [==============================] - 23s 20ms/sample - loss: 0.4223 - acc: 0.8209 - val_loss: 0.4635 - val_acc: 0.7790\n",
      "Epoch 8/30\n",
      "1100/1100 [==============================] - 22s 20ms/sample - loss: 0.3955 - acc: 0.8173 - val_loss: 0.5138 - val_acc: 0.7609\n",
      "Epoch 9/30\n",
      "1100/1100 [==============================] - 23s 21ms/sample - loss: 0.3944 - acc: 0.8300 - val_loss: 0.3458 - val_acc: 0.8478\n",
      "Epoch 10/30\n",
      "1100/1100 [==============================] - 23s 21ms/sample - loss: 0.3118 - acc: 0.8773 - val_loss: 0.3548 - val_acc: 0.8478\n",
      "Epoch 11/30\n",
      "1100/1100 [==============================] - 23s 21ms/sample - loss: 0.2725 - acc: 0.8782 - val_loss: 0.4780 - val_acc: 0.8043\n",
      "Epoch 12/30\n",
      "1100/1100 [==============================] - 23s 20ms/sample - loss: 0.3137 - acc: 0.8718 - val_loss: 0.3836 - val_acc: 0.8225\n",
      "Epoch 13/30\n",
      "1100/1100 [==============================] - 22s 20ms/sample - loss: 0.2523 - acc: 0.8918 - val_loss: 0.3219 - val_acc: 0.8659\n",
      "Epoch 14/30\n",
      "1100/1100 [==============================] - 23s 21ms/sample - loss: 0.1972 - acc: 0.9182 - val_loss: 0.3480 - val_acc: 0.8587\n",
      "Epoch 15/30\n",
      "1100/1100 [==============================] - 23s 21ms/sample - loss: 0.1933 - acc: 0.9200 - val_loss: 0.3352 - val_acc: 0.8659\n",
      "Epoch 16/30\n",
      "1100/1100 [==============================] - 22s 20ms/sample - loss: 0.1522 - acc: 0.9336 - val_loss: 0.3264 - val_acc: 0.8442\n",
      "Epoch 17/30\n",
      "1100/1100 [==============================] - 22s 20ms/sample - loss: 0.1309 - acc: 0.9482 - val_loss: 0.3892 - val_acc: 0.8514\n",
      "Epoch 18/30\n",
      "1100/1100 [==============================] - 23s 20ms/sample - loss: 0.0884 - acc: 0.9718 - val_loss: 0.3944 - val_acc: 0.8478\n",
      "Epoch 19/30\n",
      "1100/1100 [==============================] - 25s 23ms/sample - loss: 0.0719 - acc: 0.9755 - val_loss: 0.4382 - val_acc: 0.8514\n",
      "Epoch 20/30\n",
      "1100/1100 [==============================] - 23s 21ms/sample - loss: 0.0446 - acc: 0.9864 - val_loss: 0.5459 - val_acc: 0.8478\n",
      "Epoch 21/30\n",
      "1100/1100 [==============================] - 23s 21ms/sample - loss: 0.0611 - acc: 0.9764 - val_loss: 0.5599 - val_acc: 0.8333\n",
      "Epoch 22/30\n",
      "1100/1100 [==============================] - 23s 21ms/sample - loss: 0.0436 - acc: 0.9882 - val_loss: 0.4434 - val_acc: 0.8514\n",
      "Epoch 23/30\n",
      "1100/1100 [==============================] - 23s 21ms/sample - loss: 0.0367 - acc: 0.9873 - val_loss: 0.4876 - val_acc: 0.8623\n",
      "Epoch 24/30\n",
      "1100/1100 [==============================] - 23s 21ms/sample - loss: 0.0248 - acc: 0.9936 - val_loss: 0.5084 - val_acc: 0.8804\n",
      "Epoch 25/30\n",
      "1100/1100 [==============================] - 23s 21ms/sample - loss: 0.0173 - acc: 0.9973 - val_loss: 0.6039 - val_acc: 0.8732\n",
      "Epoch 26/30\n",
      "1100/1100 [==============================] - 23s 21ms/sample - loss: 0.0187 - acc: 0.9973 - val_loss: 0.6419 - val_acc: 0.8406\n",
      "Epoch 27/30\n",
      "1100/1100 [==============================] - 23s 21ms/sample - loss: 0.0411 - acc: 0.9845 - val_loss: 0.6046 - val_acc: 0.8732\n",
      "Epoch 28/30\n",
      "1100/1100 [==============================] - 23s 21ms/sample - loss: 0.0630 - acc: 0.9773 - val_loss: 0.4916 - val_acc: 0.8442\n",
      "Epoch 29/30\n",
      "1100/1100 [==============================] - 23s 21ms/sample - loss: 0.0340 - acc: 0.9909 - val_loss: 0.4928 - val_acc: 0.8623\n",
      "Epoch 30/30\n",
      "1100/1100 [==============================] - 23s 21ms/sample - loss: 0.0777 - acc: 0.9691 - val_loss: 0.7374 - val_acc: 0.8370\n"
     ]
    }
   ],
   "source": [
    "model.compile(loss=\"binary_crossentropy\",optimizer=\"adam\",metrics=[\"accuracy\"])\n",
    "history = model.fit(X_train, y_train,batch_size=64,epochs=30, validation_data=(X_test, y_test))"
   ]
  },
  {
   "cell_type": "code",
   "execution_count": 58,
   "metadata": {},
   "outputs": [],
   "source": [
    "import matplotlib.pyplot as plt"
   ]
  },
  {
   "cell_type": "code",
   "execution_count": 59,
   "metadata": {},
   "outputs": [
    {
     "data": {
      "image/png": "[encoded data removed]",
      "text/plain": [
       "<Figure size 432x288 with 1 Axes>"
      ]
     },
     "metadata": {
      "needs_background": "light"
     },
     "output_type": "display_data"
    },
    {
     "data": {
      "image/png": "[encoded data removed]",
      "text/plain": [
       "<Figure size 432x288 with 1 Axes>"
      ]
     },
     "metadata": {
      "needs_background": "light"
     },
     "output_type": "display_data"
    }
   ],
   "source": [
    "plt.plot(history.history['acc'])\n",
    "plt.plot(history.history['val_acc'])\n",
    "plt.title('model accuracy')\n",
    "plt.ylabel('accuracy')\n",
    "plt.xlabel('epoch')\n",
    "plt.legend(['train', 'validation'], loc='upper left')\n",
    "plt.show()\n",
    "# \"Loss\"\n",
    "plt.plot(history.history['loss'])\n",
    "plt.plot(history.history['val_loss'])\n",
    "plt.title('model loss')\n",
    "plt.ylabel('loss')\n",
    "plt.xlabel('epoch')\n",
    "plt.legend(['train', 'validation'], loc='upper left')\n",
    "plt.show()"
   ]
  },
  {
   "cell_type": "code",
   "execution_count": null,
   "metadata": {},
   "outputs": [],
   "source": []
  },
  {
   "cell_type": "code",
   "execution_count": null,
   "metadata": {},
   "outputs": [],
   "source": []
  },
  {
   "cell_type": "code",
   "execution_count": 78,
   "metadata": {},
   "outputs": [
    {
     "name": "stdout",
     "output_type": "stream",
     "text": [
      "_________________________________________________________________\n",
      "Layer (type)                 Output Shape              Param #   \n",
      "=================================================================\n",
      "conv2d_55 (Conv2D)           (None, 126, 126, 32)      320       \n",
      "_________________________________________________________________\n",
      "activation_65 (Activation)   (None, 126, 126, 32)      0         \n",
      "_________________________________________________________________\n",
      "max_pooling2d_54 (MaxPooling (None, 63, 63, 32)        0         \n",
      "_________________________________________________________________\n",
      "conv2d_56 (Conv2D)           (None, 61, 61, 32)        9248      \n",
      "_________________________________________________________________\n",
      "activation_66 (Activation)   (None, 61, 61, 32)        0         \n",
      "_________________________________________________________________\n",
      "max_pooling2d_55 (MaxPooling (None, 30, 30, 32)        0         \n",
      "_________________________________________________________________\n",
      "conv2d_57 (Conv2D)           (None, 28, 28, 64)        18496     \n",
      "_________________________________________________________________\n",
      "activation_67 (Activation)   (None, 28, 28, 64)        0         \n",
      "_________________________________________________________________\n",
      "max_pooling2d_56 (MaxPooling (None, 14, 14, 64)        0         \n",
      "_________________________________________________________________\n",
      "conv2d_58 (Conv2D)           (None, 12, 12, 64)        36928     \n",
      "_________________________________________________________________\n",
      "activation_68 (Activation)   (None, 12, 12, 64)        0         \n",
      "_________________________________________________________________\n",
      "max_pooling2d_57 (MaxPooling (None, 6, 6, 64)          0         \n",
      "_________________________________________________________________\n",
      "conv2d_59 (Conv2D)           (None, 4, 4, 128)         73856     \n",
      "_________________________________________________________________\n",
      "activation_69 (Activation)   (None, 4, 4, 128)         0         \n",
      "_________________________________________________________________\n",
      "max_pooling2d_58 (MaxPooling (None, 2, 2, 128)         0         \n",
      "_________________________________________________________________\n",
      "flatten_11 (Flatten)         (None, 512)               0         \n",
      "=================================================================\n",
      "Total params: 138,848\n",
      "Trainable params: 138,848\n",
      "Non-trainable params: 0\n",
      "_________________________________________________________________\n"
     ]
    }
   ],
   "source": [
    "model=Sequential()\n",
    "model.add(Conv2D(32,(3,3),input_shape=X_train.shape[1:]))\n",
    "model.add(Activation(\"relu\"))\n",
    "model.add(MaxPooling2D(pool_size=(2,2)))\n",
    "\n",
    "model.add(Conv2D(32,(3,3),input_shape=X_train.shape[1:]))\n",
    "model.add(Activation(\"relu\"))\n",
    "model.add(MaxPooling2D(pool_size=(2,2)))\n",
    "\n",
    "model.add(Conv2D(64,(3,3)))\n",
    "model.add(Activation(\"relu\"))\n",
    "model.add(MaxPooling2D(pool_size=(2,2)))\n",
    "\n",
    "model.add(Conv2D(64,(3,3)))\n",
    "model.add(Activation(\"relu\"))\n",
    "model.add(MaxPooling2D(pool_size=(2,2)))\n",
    "\n",
    "model.add(Conv2D(128,(3,3)))\n",
    "model.add(Activation(\"relu\"))\n",
    "model.add(MaxPooling2D(pool_size=(2,2)))\n",
    "\n",
    "\n",
    "model.add(Flatten())\n",
    "\n",
    "model.summary()"
   ]
  },
  {
   "cell_type": "code",
   "execution_count": null,
   "metadata": {},
   "outputs": [],
   "source": []
  },
  {
   "cell_type": "code",
   "execution_count": null,
   "metadata": {},
   "outputs": [],
   "source": []
  }
 ],
 "metadata": {
  "kernelspec": {
   "display_name": "Python 3",
   "language": "python",
   "name": "python3"
  },
  "language_info": {
   "codemirror_mode": {
    "name": "ipython",
    "version": 3
   },
   "file_extension": ".py",
   "mimetype": "text/x-python",
   "name": "python",
   "nbconvert_exporter": "python",
   "pygments_lexer": "ipython3",
   "version": "3.7.3"
  }
 },
 "nbformat": 4,
 "nbformat_minor": 2
}
